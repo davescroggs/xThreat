{
 "cells": [
  {
   "cell_type": "code",
   "execution_count": null,
   "metadata": {},
   "outputs": [],
   "source": [
    "import pandas as pd\n",
    "import matplotlib.pyplot as plt\n",
    "import math\n",
    "import numpy as np\n",
    "pd.set_option('display.max_columns', None)\n",
    "pd.set_option('display.max_rows', 50)\n",
    "\n",
    "chains_2023 =  pd.read_csv(\"../data/chains_data.csv\")\n",
    "\n",
    "## Rename columns\n",
    "chains_2023.rename(columns={'homeTeam.teamName': \"homeTeam\",\n",
    "  'awayTeam.teamName': \"awayTeam\",\n",
    "  'homeTeamScore.totalScore': 'homeTeamScore',\n",
    "  'awayTeamScore.totalScore': 'awayTeamScore',\n",
    "  'chain_number': \"chainNumber\",\n",
    "  'venue.name': \"venueName\",\n",
    "  'team': \"playingFor\"}, inplace=True)\n",
    "\n",
    "chains_2023['x_norm'] = chains_2023['x'] / (chains_2023['venueLength'] / 2)\n",
    "## The average ratio of width/length in the league is about 0.78 or so, round up to 0.8\n",
    "chains_2023['y_norm'] = chains_2023['y'] / (chains_2023['venueWidth'] / 2) * 0.8\n",
    "chains_2023.fillna({'playerId': 'CONTEXT'}, inplace=True)\n",
    "\n",
    "# Create id for each possession\n",
    "chains_2023['possessionId'] = chains_2023.groupby([\"roundNumber\", \"homeTeam\", \"period\", \"chainNumber\"],  group_keys=False)['playerId'].apply(lambda s: s.ne(s.shift()).cumsum())\n",
    "\n",
    "# Identify duplicate rows that show the player gaining possession and remove \n",
    "dupes = chains_2023.duplicated(subset=['season', 'roundNumber', 'homeTeam', 'period', 'periodSeconds', 'playerId', 'description'], keep='last')\n",
    "chains_2023 = chains_2023[~dupes]\n",
    "\n",
    "player_info = chains_2023[['playerId', 'firstName', 'surname']].drop_duplicates().dropna()\n",
    "player_info['full_name'] = chains_2023['firstName'] + \" \" + chains_2023['surname']\n",
    "player_info.drop(['firstName', 'surname'], axis=1, inplace=True)\n",
    "# player_info.set_index('playerId', inplace=True)"
   ]
  },
  {
   "cell_type": "code",
   "execution_count": null,
   "metadata": {},
   "outputs": [],
   "source": [
    "## Create columns fr grouping for easy summarising\n",
    "\n",
    "game_identifiers = ['season', 'roundNumber', 'homeTeam']\n",
    "chain_identifiers = game_identifiers + ['chainNumber']\n",
    "possession_identifiers = chain_identifiers + ['possessionId']"
   ]
  },
  {
   "cell_type": "code",
   "execution_count": null,
   "metadata": {},
   "outputs": [],
   "source": [
    "def paste(outcm_strings):\n",
    "    return ', '.join(outcm_strings)\n",
    "\n",
    "def count_bounce(x):\n",
    "    return sum(x == \"Bounce\")\n",
    "\n",
    "possession_summary = (chains_2023\n",
    "                        .groupby(['season', 'roundNumber', 'homeTeam','playingFor', 'venueName', 'venueLength', 'venueWidth', 'period', 'chainNumber', 'possessionId', 'playerId'], as_index=False)\n",
    "                        .agg(\n",
    "                            n=('x', 'size'),\n",
    "                            outcomes=('description', paste),\n",
    "                            xInitialPoss = ('x', 'first'),\n",
    "                            yInitialPoss = ('y', 'first'),\n",
    "                            xFinalPoss = ('x', 'last'),\n",
    "                            yFinalPoss = ('y', 'last'),\n",
    "                            bounces = ('description', count_bounce),\n",
    "                            chainInitialState = ('initialState', 'first'),\n",
    "                            chainFinalState = ('finalState', 'first'),\n",
    "                            initialState = ('description', 'first'),\n",
    "                            finalState = ('description', 'last')\n",
    "                             ))"
   ]
  },
  {
   "cell_type": "code",
   "execution_count": null,
   "metadata": {},
   "outputs": [],
   "source": [
    "def calc_dist(x0, y0, x1, y1):\n",
    "    x0 = np.array(x0)\n",
    "    y0 = np.array(y0)\n",
    "    x1 = np.array(x1)\n",
    "    y1 = np.array(y1)\n",
    "    return np.sqrt((x1-x0)**2 + (y1 - y0)**2)\n",
    "\n",
    "possession_summary = possession_summary.assign(distanceFromPoss = calc_dist(possession_summary.xInitialPoss, possession_summary.yInitialPoss, possession_summary.xFinalPoss, possession_summary.yFinalPoss),\n",
    "                        distanceDisposal = calc_dist(possession_summary.xFinalPoss, possession_summary.yFinalPoss, possession_summary.xInitialPoss.shift(-1), possession_summary.yInitialPoss.shift(-1), ),\n",
    "                        initialDistFromGoal = calc_dist(possession_summary.xInitialPoss, possession_summary.yInitialPoss, possession_summary.venueLength, 0),\n",
    "                        finalDistFromGoal = calc_dist(possession_summary.xFinalPoss, possession_summary.yFinalPoss, possession_summary.venueLength, 0),\n",
    "                        disposalRecipient = possession_summary.playerId.shift(-1))\n",
    "possession_summary['deltaDistFromGoal'] = possession_summary.finalDistFromGoal - possession_summary.initialDistFromGoal"
   ]
  },
  {
   "cell_type": "code",
   "execution_count": null,
   "metadata": {},
   "outputs": [],
   "source": [
    "## Sanity check - check what the largest change in position was wrt the goals\n",
    "possession_summary.sort_values('deltaDistFromGoal', ascending=True).head(1).merge(chains_2023, on=['season', 'roundNumber', 'homeTeam', 'chainNumber', 'possessionId'], how='inner')"
   ]
  },
  {
   "cell_type": "code",
   "execution_count": null,
   "metadata": {},
   "outputs": [],
   "source": [
    "## Sanity check - visualise a possession\n",
    "df = chains_2023[(chains_2023.roundNumber == 1) & (chains_2023['homeTeam'] == \"Richmond\") & (chains_2023.period == 1) & (chains_2023.chainNumber == 2)]\n",
    "df\n",
    "# plt.scatter('x', 'y', c='chainNumber', data=df)"
   ]
  },
  {
   "cell_type": "code",
   "execution_count": null,
   "metadata": {},
   "outputs": [],
   "source": [
    "# Create pass networks - subset the possession summary and join on player names\n",
    "\n",
    "pass_network = possession_summary[['season', 'roundNumber', 'playingFor', 'period', 'chainNumber', 'possessionId', 'playerId','disposalRecipient', 'finalState']].merge(player_info, on='playerId', how='inner')\n",
    "pass_network = pass_network.merge(player_info, left_on='disposalRecipient', right_on='playerId', how='inner', suffixes=['_disposer','_reciever'])\n",
    "\n",
    "# Count interations\n",
    "pass_network.groupby(['season', 'roundNumber', 'playingFor']).value_counts(['full_name_disposer', 'full_name_reciever', 'finalState']).sort_values(ascending=False)"
   ]
  }
 ],
 "metadata": {
  "kernelspec": {
   "display_name": "Python 3",
   "language": "python",
   "name": "python3"
  },
  "language_info": {
   "codemirror_mode": {
    "name": "ipython",
    "version": 3
   },
   "file_extension": ".py",
   "mimetype": "text/x-python",
   "name": "python",
   "nbconvert_exporter": "python",
   "pygments_lexer": "ipython3",
   "version": "3.11.3"
  },
  "orig_nbformat": 4
 },
 "nbformat": 4,
 "nbformat_minor": 2
}
