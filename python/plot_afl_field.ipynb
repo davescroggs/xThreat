{
 "cells": [
  {
   "cell_type": "code",
   "execution_count": null,
   "metadata": {},
   "outputs": [],
   "source": [
    "import numpy as np\n",
    "from matplotlib import pyplot as plt\n",
    "import matplotlib.patches as mpatches\n",
    "from math import pi\n",
    "\n",
    "# Generate 50m line\n",
    "x, y = generate_semicircle(0,0,50)\n",
    "x = x-80\n",
    "y = y[x>-60]\n",
    "x = x[x>-60]\n",
    "plt.plot(x, y, -x, y)\n",
    "\n",
    "x_sq = np.array([80, 71 , 71, 80])\n",
    "y_sq = np.array([6.4, 6.4, -6.4, -6.4])\n",
    "plt.plot(x_sq, y_sq, -x_sq, y_sq)\n",
    "\n",
    "# Centre square\n",
    "plt.plot([-25, -25, 25, 25, -25], [-25, 25, 25, -25, -25])\n",
    "\n",
    "plt.scatter(0,0,s=15)\n",
    "\n",
    "# Generate boundary\n",
    "u=0     #x-position of the center\n",
    "v=0    #y-position of the center\n",
    "a=80.     #radius on the x-axis\n",
    "b=70.    #radius on the y-axis\n",
    "\n",
    "t = np.linspace(0, 2*pi, 100)\n",
    "plt.plot( u+a*np.cos(t) , v+b*np.sin(t) )\n",
    "plt.grid(color='lightgray',linestyle='--')\n",
    "## Change scales so they're equal!\n",
    "plt.show()"
   ]
  }
 ],
 "metadata": {
  "kernelspec": {
   "display_name": "Python 3",
   "language": "python",
   "name": "python3"
  },
  "language_info": {
   "codemirror_mode": {
    "name": "ipython",
    "version": 3
   },
   "file_extension": ".py",
   "mimetype": "text/x-python",
   "name": "python",
   "nbconvert_exporter": "python",
   "pygments_lexer": "ipython3",
   "version": "3.8.3"
  },
  "orig_nbformat": 4
 },
 "nbformat": 4,
 "nbformat_minor": 2
}
