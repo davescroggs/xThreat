{
 "cells": [
  {
   "cell_type": "code",
   "execution_count": null,
   "metadata": {},
   "outputs": [],
   "source": [
    "import pandas as pd\n",
    "import numpy as np\n",
    "from scipy.stats import binned_statistic_2d\n",
    "pd.set_option('display.max_columns', None)\n",
    "pd.set_option('display.max_rows', 50)\n",
    "from plot_field import generate_afl_oval, plot_events\n",
    "import seaborn as sns\n",
    "import matplotlib.pyplot as plt\n",
    "\n",
    "def calc_dist(x0, y0, x1, y1):\n",
    "    x0 = np.array(x0, dtype=float)\n",
    "    y0 = np.array(y0, dtype=float)\n",
    "    x1 = np.array(x1, dtype=float)\n",
    "    y1 = np.array(y1, dtype=float)\n",
    "    return np.sqrt((x1-x0)**2 + (y1 - y0)**2)\n",
    "\n",
    "xT = pd.read_pickle(\"../data/xT.pkl\")\n",
    "xT = xT.assign(initialDistFromGoal = calc_dist(xT.x_norm, xT.y_norm, 82, 0))"
   ]
  },
  {
   "cell_type": "markdown",
   "metadata": {},
   "source": [
    "## Show negative and positive delta xT"
   ]
  },
  {
   "cell_type": "code",
   "execution_count": null,
   "metadata": {},
   "outputs": [],
   "source": [
    "xT['neg_xt'] = xT.deltaXT.apply(lambda x: x<0)\n",
    "xT_summary = xT.groupby(['season', 'playingFor','playerId', 'firstName', 'surname','neg_xt']).deltaXT.sum().sort_values(ascending=False).reset_index()\n",
    "xT_summary['playerName'] = xT_summary.firstName + ' ' + xT_summary.surname + '-' + xT_summary.season.astype(str)\n",
    "xT_summary['xT_tot'] = xT_summary.groupby(['season', 'playerId']).deltaXT.transform('sum')\n",
    "xT_summary"
   ]
  },
  {
   "cell_type": "code",
   "execution_count": null,
   "metadata": {},
   "outputs": [],
   "source": [
    "xT['neg_xt'] = xT.deltaXT.apply(lambda x: x<0)\n",
    "xT_summary = xT[xT.season == 2023].groupby(['season', 'playingFor','playerId', 'firstName', 'surname','neg_xt']).deltaXT.sum().sort_values(ascending=False).reset_index()\n",
    "xT_summary['playerName'] = xT_summary.firstName + ' ' + xT_summary.surname + '-' + xT_summary.season.astype(str)\n",
    "xT_summary['xT_tot'] = xT_summary.groupby(['season', 'playerId']).deltaXT.transform('sum')\n",
    "\n",
    "plot_df = xT_summary.sort_values(by='xT_tot',ascending=False).head(40)\n",
    "\n",
    "sns.barplot(x='deltaXT', y='playerName', data=plot_df[plot_df.neg_xt],color='red')\n",
    "sns.barplot(x='xT_tot', y='playerName', data=plot_df[~plot_df.neg_xt],color='green').set(title='Net Expected Threat\\nInc. shots at goal',xlabel = 'Net xThreat',ylabel='Player name + season')\n",
    "# sns.pointplot(x='xT_tot', y='playerName', data=plot_df[~plot_df.neg_xt],color='black',linestyles='')\n",
    "plt.show()"
   ]
  },
  {
   "cell_type": "code",
   "execution_count": null,
   "metadata": {},
   "outputs": [],
   "source": [
    "plot_df"
   ]
  },
  {
   "cell_type": "code",
   "execution_count": null,
   "metadata": {},
   "outputs": [],
   "source": [
    "plot_df"
   ]
  },
  {
   "cell_type": "code",
   "execution_count": null,
   "metadata": {},
   "outputs": [],
   "source": [
    "xT['neg_xt'] = xT.deltaXT.apply(lambda x: x<0)\n",
    "xT_summary = xT[xT.season == 2023].groupby(['season', 'playingFor','playerId', 'firstName', 'surname','shotAtGoal']).deltaXT.sum().sort_values(ascending=False).reset_index()\n",
    "xT_summary['playerName'] = xT_summary.firstName + ' ' + xT_summary.surname + '-' + xT_summary.season.astype(str)\n",
    "xT_summary['xT_tot'] = xT_summary.groupby(['season', 'playerId']).deltaXT.transform('sum')\n",
    "\n",
    "plot_df = xT_summary.sort_values(by='xT_tot',ascending=False).head(40).reindex()\n",
    "fig = plt.figure(figsize=(12,10))\n",
    "sns.barplot(x='deltaXT', y='playerName', data=plot_df, hue='shotAtGoal', dodge=False).set(title='Net Expected Threat\\nInc. shots at goal',xlabel = 'Net xThreat',ylabel='Player name + season')\n",
    "# sns.pointplot(x='xT_tot', y='playerName', data=plot_df,color='black',linestyles='')\n",
    "plt.show()"
   ]
  },
  {
   "cell_type": "code",
   "execution_count": null,
   "metadata": {},
   "outputs": [],
   "source": [
    "plot_df = xT_summary.sort_values(by='xT_tot',ascending=False).head(40)\n",
    "\n",
    "sns.barplot(x='deltaXT', y='playerName', data=plot_df[plot_df.neg_xt],color='red')\n",
    "sns.barplot(x='xT_tot', y='playerName', data=plot_df[~plot_df.neg_xt],color='green').set(title='Net Expected Threat\\nNo shots at goal',xlabel = 'Net xThreat',ylabel='Player name + season')\n",
    "# sns.pointplot(x='xT_tot', y='playerName', data=plot_df[~plot_df.neg_xt],color='black',linestyles='')\n",
    "plt.show()"
   ]
  },
  {
   "cell_type": "code",
   "execution_count": null,
   "metadata": {},
   "outputs": [],
   "source": [
    "xT['neg_xt'] = xT.deltaXT.apply(lambda x: x<0)\n",
    "xT_summary = xT[(xT.season == 2023)].groupby(['season', 'playingFor','playerId', 'firstName', 'surname','neg_xt']).deltaXT.sum().sort_values(ascending=False).reset_index()\n",
    "xT_summary['playerName'] = xT_summary.firstName + ' ' + xT_summary.surname + '-' + xT_summary.season.astype(str)\n",
    "xT_summary['xT_tot'] = xT_summary.groupby(['season', 'playerId']).deltaXT.transform('sum')\n",
    "xT_summary.sort_values(by='xT_tot', ascending=False).head(20)"
   ]
  },
  {
   "cell_type": "code",
   "execution_count": null,
   "metadata": {},
   "outputs": [],
   "source": [
    "xT[(xT.season == 2023) & (xT.playerId == 'CD_I996731') & (xT.deltaXT < -1)]"
   ]
  },
  {
   "cell_type": "code",
   "execution_count": null,
   "metadata": {},
   "outputs": [],
   "source": [
    "xT['neg_xt'] = xT.deltaXT.apply(lambda x: x<0)\n",
    "xT_summary = xT[xT.playerId.isin([\"CD_I1005054\"])].groupby(['season', 'playingFor','playerId', 'firstName', 'surname','neg_xt']).deltaXT.sum().sort_values(ascending=False).reset_index()\n",
    "xT_summary['playerName'] = xT_summary.firstName + ' ' + xT_summary.surname + '-' + xT_summary.season.astype(str)\n",
    "xT_summary['xT_tot'] = xT_summary.groupby(['season', 'playerId']).deltaXT.transform('sum')\n",
    "\n",
    "plot_df = xT_summary.sort_values(by='xT_tot',ascending=False).head(40)\n",
    "\n",
    "sns.barplot(x='deltaXT', y='playerName', data=plot_df[plot_df.neg_xt],color='red')\n",
    "sns.barplot(x='xT_tot', y='playerName', data=plot_df[~plot_df.neg_xt],color='green').set(title='Net Expected Threat\\nInc. shots at goal',xlabel = 'Net xThreat',ylabel='Player name + season')\n",
    "# sns.pointplot(x='xT_tot', y='playerName', data=plot_df[~plot_df.neg_xt],color='black',linestyles='')\n",
    "plt.show()"
   ]
  },
  {
   "cell_type": "code",
   "execution_count": null,
   "metadata": {},
   "outputs": [],
   "source": [
    "xT[xT.playerId.isin([\"CD_I1005054\"])].description.unique()"
   ]
  },
  {
   "cell_type": "code",
   "execution_count": null,
   "metadata": {},
   "outputs": [],
   "source": [
    "# JD = CD_I1005054; CC = CD_I996731; TW = CD_I280506\n",
    "\n",
    "plot_df = xT[xT.playerId.isin([\"CD_I1005054\"])].copy()\n",
    "plot_df['disposal_type'] = plot_df.description.map({'Handball': 'red', 'Kick': 'blue', 'Ground Kick': 'green', 'Kickin play on': 'yellow'})\n",
    "\n",
    "fig = plt.figure(figsize=(10,8))\n",
    "sns.scatterplot(x='x_next', y='y_next', hue='description',palette={'Handball': 'red', 'Kick': 'blue', 'Ground Kick': 'green', 'Kickin play on': 'yellow'} ,data=plot_df).set(title=\"Josh Daicos 2023 disposals\")\n",
    "generate_afl_oval('MCG')\n",
    "plt.show()\n",
    "\n",
    "plot_df = xT[xT.playerId.isin([\"CD_I996731\"])].copy()\n",
    "plot_df['disposal_type'] = plot_df.description.map({'Handball': 'red', 'Kick': 'blue', 'Ground Kick': 'green', 'Kickin play on': 'yellow'})\n",
    "\n",
    "fig = plt.figure(figsize=(10,8))\n",
    "sns.scatterplot(x='x_next', y='y_next', hue='description',palette={'Handball': 'red', 'Kick': 'blue', 'Ground Kick': 'green', 'Kickin play on': 'yellow'} ,data=plot_df).set(title=\"Charlie Curnow 2023 disposals\")\n",
    "generate_afl_oval('MCG')\n",
    "\n",
    "plt.show()\n",
    "\n",
    "plot_df = xT[xT.playerId.isin([\"CD_I280506\"])].copy()\n",
    "plot_df['disposal_type'] = plot_df.description.map({'Handball': 'red', 'Kick': 'blue', 'Ground Kick': 'green', 'Kickin play on': 'yellow'})\n",
    "\n",
    "fig = plt.figure(figsize=(10,8))\n",
    "sns.scatterplot(x='x_next', y='y_next', hue='description',palette={'Handball': 'red', 'Kick': 'blue', 'Ground Kick': 'green', 'Kickin play on': 'yellow'} ,data=plot_df).set(title=\"Big Tex 2023 disposals\")\n",
    "generate_afl_oval('MCG')\n",
    "\n",
    "plt.show()"
   ]
  },
  {
   "cell_type": "markdown",
   "metadata": {},
   "source": [
    "## Battle of the mids\n",
    "\n",
    "- Why isn't Daicos higher?"
   ]
  },
  {
   "cell_type": "code",
   "execution_count": null,
   "metadata": {},
   "outputs": [],
   "source": [
    "plot_df.sort_values(by='disps',ascending=False)\n",
    "\n",
    "\n",
    "fig = plt.figure(figsize=(12,10))\n",
    "sns.scatterplot(x='disps', y='mean_xT', data=plot_df)\n",
    "\n",
    "def label_point(x, y, val, ax):\n",
    "    a = pd.concat({'x': x, 'y': y, 'val': val}, axis=1)\n",
    "    for i, point in a.iterrows():\n",
    "        ax.text(point['x']+.02, point['y'], str(point['val']))\n",
    "\n",
    "label_point(plot_df.disps, plot_df.mean_xT, plot_df.surname, plt.gca()) "
   ]
  },
  {
   "cell_type": "code",
   "execution_count": null,
   "metadata": {},
   "outputs": [],
   "source": [
    "plot_df = (xT[(xT.deltaXT != 0) & xT.position.isin([\"MIDFIELDER\"]) & (xT.season == 2023)].groupby(['playerId','firstName', 'surname'])\n",
    "                                                        .agg(disps = ('x', 'size'),\n",
    "                                                            n_pos = ('deltaXT', lambda s: sum(s>0)),\n",
    "                                                             mean_xT = ('deltaXT', lambda s: s[s>0].mean()),\n",
    "                                                             tot_xT = ('deltaXT', lambda s: s[s>0].sum()),\n",
    "                                                             ave_goal_dist = ('initialDistFromGoal', 'mean'))\n",
    "                                                        .sort_values(by='tot_xT',ascending=False)\n",
    "                                                        .head(30)).reset_index()\n",
    "fig = plt.figure(figsize=(12,10))\n",
    "sns.scatterplot(x='ave_goal_dist', y='tot_xT', data=plot_df)\n",
    "\n",
    "def label_point(x, y, val, ax):\n",
    "    a = pd.concat({'x': x, 'y': y, 'val': val}, axis=1)\n",
    "    for i, point in a.iterrows():\n",
    "        ax.text(point['x']+.02, point['y'], str(point['val']))\n",
    "\n",
    "label_point(plot_df.ave_goal_dist, plot_df.tot_xT, plot_df.surname, plt.gca()) "
   ]
  },
  {
   "cell_type": "code",
   "execution_count": null,
   "metadata": {},
   "outputs": [],
   "source": [
    "plot_df = (xT[xT.position.isin([\"MIDFIELDER\"]) & (xT.season == 2023)].groupby(['playerId','firstName', 'surname'])\n",
    "                                                        .agg(disps = ('x', 'size'),\n",
    "                                                            n_pos_xT = ('deltaXT', lambda s: sum(s>0)),\n",
    "                                                             mean_xT = ('deltaXT', lambda s: s[s>0].mean()),\n",
    "                                                             tot_xT = ('deltaXT', lambda s: s[s>0].sum()),\n",
    "                                                             ave_goal_dist = ('initialDistFromGoal', 'mean'))\n",
    "                                                        .sort_values(by='tot_xT',ascending=False)\n",
    "                                                        .head(30)).reset_index()\n",
    "plot_df"
   ]
  },
  {
   "cell_type": "code",
   "execution_count": null,
   "metadata": {},
   "outputs": [],
   "source": [
    "pdf = xT[xT.position.isin([\"MIDFIELDER\"]) & (xT.season == 2023) & (xT.playerId.isin(plot_df.playerId))].sort_values(by='initialDistFromGoal')\n",
    "pdf['full_name'] = pdf.firstName + ' ' + pdf.surname\n",
    "grouped = pdf.groupby(['full_name']).initialDistFromGoal.median().sort_values(ascending=True)\n",
    "\n",
    "fig = plt.figure(figsize=(12,10))\n",
    "sns.boxplot(x='initialDistFromGoal', y='full_name', order=grouped.index, data=pdf)\n",
    "plt.show()"
   ]
  },
  {
   "cell_type": "code",
   "execution_count": null,
   "metadata": {},
   "outputs": [],
   "source": [
    "['CD_I1013128', 'CD_I1005054']\n",
    "plot_df = xT[xT.playerId.isin(['CD_I1013128', 'CD_I1005054','CD_I298210']) & (xT.season == 2023) & ((xT.deltaXT)>0.1)].copy()\n",
    "\n",
    "plot_df['x_start_mid'] = plot_df.xInitialPoss_bin.apply(lambda s: np.round(s.values.left + 3.5, 3)).astype('float')\n",
    "plot_df['y_start_mid'] = plot_df.yInitialPoss_bin.apply(lambda s: np.round(s.values.left + 2.5,3)).astype('float')\n",
    "plot_df['x_end_mid'] = plot_df.xFinalPoss_bin.apply(lambda s: np.round(s.values.left + 3.5, 3)).astype('float')\n",
    "plot_df['y_end_mid'] = plot_df.yFinalPoss_bin.apply(lambda s: np.round(s.values.left + 2.5,3)).astype('float')\n",
    "plot_df['full_name'] = plot_df.firstName + ' ' + plot_df.surname\n",
    "plot_df = plot_df.groupby(['playerId','full_name','x_start_mid', 'y_start_mid', 'x_end_mid', 'y_end_mid']).size().reset_index(name='n')\n",
    "plot_df['line_fill'] = plot_df.n/plot_df.n.max()\n",
    "\n",
    "\n",
    "for id in ['CD_I1013128', 'CD_I1005054', 'CD_I298210']:\n",
    "    fig = plt.figure(figsize=(12,10))\n",
    "    for row in plot_df[plot_df.playerId == id].itertuples():\n",
    "        plt.plot([row.x_start_mid, row.x_end_mid], [row.y_start_mid, row.y_end_mid], color=str(row.line_fill), linestyle='-')\n",
    "        plt.plot([row.x_start_mid], [row.y_start_mid], 'ro')\n",
    "        plt.plot([row.x_end_mid], [row.y_end_mid], 'ko')\n",
    "    plt.suptitle(plot_df[plot_df.playerId == id].full_name.head(1).values)\n",
    "    generate_afl_oval('MCG')\n",
    "    plt.show()"
   ]
  },
  {
   "cell_type": "code",
   "execution_count": null,
   "metadata": {},
   "outputs": [],
   "source": [
    "xT[xT.playerId.isin(['CD_I996731']) & (xT.season == 2023) & (abs(xT.deltaXT)>0.1)].sort_values('deltaXT', ascending=False)\n",
    "xT[xT.playerId.isin(['CD_I996731']) & (xT.season == 2023) & (abs(xT.deltaXT)>0.1)].shotAtGoal.value_counts()"
   ]
  }
 ],
 "metadata": {
  "kernelspec": {
   "display_name": "Python 3",
   "language": "python",
   "name": "python3"
  },
  "language_info": {
   "codemirror_mode": {
    "name": "ipython",
    "version": 3
   },
   "file_extension": ".py",
   "mimetype": "text/x-python",
   "name": "python",
   "nbconvert_exporter": "python",
   "pygments_lexer": "ipython3",
   "version": "3.8.3"
  },
  "orig_nbformat": 4
 },
 "nbformat": 4,
 "nbformat_minor": 2
}
