{
 "cells": [
  {
   "cell_type": "code",
   "execution_count": null,
   "metadata": {},
   "outputs": [],
   "source": [
    "import pandas as pd\n",
    "import numpy as np\n",
    "from scipy.stats import binned_statistic_2d\n",
    "pd.set_option('display.max_columns', None)\n",
    "pd.set_option('display.max_rows', 50)\n",
    "from plot_field import generate_afl_oval, plot_events\n",
    "import seaborn as sns\n",
    "import matplotlib.pyplot as plt\n",
    "\n",
    "xT = pd.read_pickle(\"../data/xT.pkl\")"
   ]
  },
  {
   "cell_type": "markdown",
   "metadata": {},
   "source": [
    "## Show negative and positive delta xT"
   ]
  },
  {
   "cell_type": "code",
   "execution_count": null,
   "metadata": {},
   "outputs": [],
   "source": [
    "xT['neg_xt'] = xT.deltaXT.apply(lambda x: x<0)\n",
    "xT_summary = xT[~xT.shotAtGoal].groupby(['season', 'playingFor','playerId', 'firstName', 'surname','neg_xt']).deltaXT.sum().sort_values(ascending=False).reset_index()\n",
    "xT_summary['playerName'] = xT_summary.firstName + ' ' + xT_summary.surname + '-' + xT_summary.season.astype(str)\n",
    "xT_summary['xT_tot'] = xT_summary.groupby(['season', 'playerId']).deltaXT.transform('sum')\n",
    "xT_summary"
   ]
  },
  {
   "cell_type": "code",
   "execution_count": null,
   "metadata": {},
   "outputs": [],
   "source": [
    "xT['neg_xt'] = xT.deltaXT.apply(lambda x: x<0)\n",
    "xT_summary = xT[xT.season == 2023].groupby(['season', 'playingFor','playerId', 'firstName', 'surname','neg_xt']).deltaXT.sum().sort_values(ascending=False).reset_index()\n",
    "xT_summary['playerName'] = xT_summary.firstName + ' ' + xT_summary.surname + '-' + xT_summary.season.astype(str)\n",
    "xT_summary['xT_tot'] = xT_summary.groupby(['season', 'playerId']).deltaXT.transform('sum')\n",
    "\n",
    "plot_df = xT_summary.sort_values(by='xT_tot',ascending=False).head(40)\n",
    "\n",
    "sns.barplot(x='deltaXT', y='playerName', data=plot_df[plot_df.neg_xt],color='red')\n",
    "sns.barplot(x='xT_tot', y='playerName', data=plot_df[~plot_df.neg_xt],color='green').set(title='Net Expected Threat\\nInc. shots at goal',xlabel = 'Net xThreat',ylabel='Player name + season')\n",
    "# sns.pointplot(x='xT_tot', y='playerName', data=plot_df[~plot_df.neg_xt],color='black',linestyles='')\n",
    "plt.show()"
   ]
  },
  {
   "cell_type": "code",
   "execution_count": null,
   "metadata": {},
   "outputs": [],
   "source": [
    "plot_df = xT_summary.sort_values(by='xT_tot',ascending=False).head(40)\n",
    "\n",
    "sns.barplot(x='deltaXT', y='playerName', data=plot_df[plot_df.neg_xt],color='red')\n",
    "sns.barplot(x='xT_tot', y='playerName', data=plot_df[~plot_df.neg_xt],color='green').set(title='Net Expected Threat\\nNo shots at goal',xlabel = 'Net xThreat',ylabel='Player name + season')\n",
    "# sns.pointplot(x='xT_tot', y='playerName', data=plot_df[~plot_df.neg_xt],color='black',linestyles='')\n",
    "plt.show()"
   ]
  },
  {
   "cell_type": "code",
   "execution_count": null,
   "metadata": {},
   "outputs": [],
   "source": [
    "xT['neg_xt'] = xT.deltaXT.apply(lambda x: x<0)\n",
    "xT_summary = xT[(xT.season == 2023)].groupby(['season', 'playingFor','playerId', 'firstName', 'surname','neg_xt']).deltaXT.sum().sort_values(ascending=False).reset_index()\n",
    "xT_summary['playerName'] = xT_summary.firstName + ' ' + xT_summary.surname + '-' + xT_summary.season.astype(str)\n",
    "xT_summary['xT_tot'] = xT_summary.groupby(['season', 'playerId']).deltaXT.transform('sum')\n",
    "xT_summary.sort_values(by='xT_tot', ascending=False).head(20)"
   ]
  },
  {
   "cell_type": "code",
   "execution_count": null,
   "metadata": {},
   "outputs": [],
   "source": [
    "xT[(xT.season == 2023) & (xT.playerId == 'CD_I996731') & (xT.deltaXT < -1)]"
   ]
  },
  {
   "cell_type": "code",
   "execution_count": null,
   "metadata": {},
   "outputs": [],
   "source": [
    "xT['neg_xt'] = xT.deltaXT.apply(lambda x: x<0)\n",
    "xT_summary = xT[xT.playerId.isin([\"CD_I1005054\"])].groupby(['season', 'playingFor','playerId', 'firstName', 'surname','neg_xt']).deltaXT.sum().sort_values(ascending=False).reset_index()\n",
    "xT_summary['playerName'] = xT_summary.firstName + ' ' + xT_summary.surname + '-' + xT_summary.season.astype(str)\n",
    "xT_summary['xT_tot'] = xT_summary.groupby(['season', 'playerId']).deltaXT.transform('sum')\n",
    "\n",
    "plot_df = xT_summary.sort_values(by='xT_tot',ascending=False).head(40)\n",
    "\n",
    "sns.barplot(x='deltaXT', y='playerName', data=plot_df[plot_df.neg_xt],color='red')\n",
    "sns.barplot(x='xT_tot', y='playerName', data=plot_df[~plot_df.neg_xt],color='green').set(title='Net Expected Threat\\nInc. shots at goal',xlabel = 'Net xThreat',ylabel='Player name + season')\n",
    "# sns.pointplot(x='xT_tot', y='playerName', data=plot_df[~plot_df.neg_xt],color='black',linestyles='')\n",
    "plt.show()"
   ]
  },
  {
   "cell_type": "code",
   "execution_count": null,
   "metadata": {},
   "outputs": [],
   "source": [
    "xT[xT.playerId.isin([\"CD_I1005054\"])].description.unique()"
   ]
  },
  {
   "cell_type": "code",
   "execution_count": null,
   "metadata": {},
   "outputs": [],
   "source": [
    "# JD = CD_I1005054; CC = CD_I996731; TW = CD_I280506\n",
    "\n",
    "plot_df = xT[xT.playerId.isin([\"CD_I1005054\"])].copy()\n",
    "plot_df['disposal_type'] = plot_df.description.map({'Handball': 'red', 'Kick': 'blue', 'Ground Kick': 'green', 'Kickin play on': 'yellow'})\n",
    "\n",
    "fig = plt.figure(figsize=(10,8))\n",
    "sns.scatterplot(x='x_next', y='y_next', hue='description',palette={'Handball': 'red', 'Kick': 'blue', 'Ground Kick': 'green', 'Kickin play on': 'yellow'} ,data=plot_df).set(title=\"Josh Daicos 2023 disposals\")\n",
    "generate_afl_oval('MCG')\n",
    "plt.show()\n",
    "\n",
    "plot_df = xT[xT.playerId.isin([\"CD_I996731\"])].copy()\n",
    "plot_df['disposal_type'] = plot_df.description.map({'Handball': 'red', 'Kick': 'blue', 'Ground Kick': 'green', 'Kickin play on': 'yellow'})\n",
    "\n",
    "fig = plt.figure(figsize=(10,8))\n",
    "sns.scatterplot(x='x_next', y='y_next', hue='description',palette={'Handball': 'red', 'Kick': 'blue', 'Ground Kick': 'green', 'Kickin play on': 'yellow'} ,data=plot_df).set(title=\"Charlie Curnow 2023 disposals\")\n",
    "generate_afl_oval('MCG')\n",
    "\n",
    "plt.show()\n",
    "\n",
    "plot_df = xT[xT.playerId.isin([\"CD_I280506\"])].copy()\n",
    "plot_df['disposal_type'] = plot_df.description.map({'Handball': 'red', 'Kick': 'blue', 'Ground Kick': 'green', 'Kickin play on': 'yellow'})\n",
    "\n",
    "fig = plt.figure(figsize=(10,8))\n",
    "sns.scatterplot(x='x_next', y='y_next', hue='description',palette={'Handball': 'red', 'Kick': 'blue', 'Ground Kick': 'green', 'Kickin play on': 'yellow'} ,data=plot_df).set(title=\"Big Tex 2023 disposals\")\n",
    "generate_afl_oval('MCG')\n",
    "\n",
    "plt.show()"
   ]
  }
 ],
 "metadata": {
  "kernelspec": {
   "display_name": "Python 3",
   "language": "python",
   "name": "python3"
  },
  "language_info": {
   "codemirror_mode": {
    "name": "ipython",
    "version": 3
   },
   "file_extension": ".py",
   "mimetype": "text/x-python",
   "name": "python",
   "nbconvert_exporter": "python",
   "pygments_lexer": "ipython3",
   "version": "3.11.3"
  },
  "orig_nbformat": 4
 },
 "nbformat": 4,
 "nbformat_minor": 2
}
